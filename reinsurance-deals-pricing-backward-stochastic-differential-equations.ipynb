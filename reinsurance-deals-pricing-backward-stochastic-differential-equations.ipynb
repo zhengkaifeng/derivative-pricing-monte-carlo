{
 "cells": [
  {
   "cell_type": "markdown",
   "metadata": {},
   "source": [
    "# Uncertain Mortality Model vs American Options"
   ]
  },
  {
   "cell_type": "markdown",
   "metadata": {},
   "source": [
    "** Re-insurance Deals**\n",
    "\n",
    "In this project, we only consider one type of default: the risk of death.\n",
    "\n",
    "The considered reinsurance product is the following:\n",
    "\n",
    "- At maturity, if the insurance subscriber is alive, the issuer delivers a Put on the underlying $X$\n",
    "\n",
    "$$\n",
    "u^\\textrm{mat}( x) = (K_\\textrm{mat} - x)_+.\n",
    "$$\n",
    "\n",
    "- At the time of death, if it is before the maturity, the issuer delivers an exit Payoff, typically another put on the underlying $X$.\n",
    "\n",
    "$$\n",
    "u^D(t, x) = (K_D - x)_+.\n",
    "$$\n",
    "\n",
    "- The insurance sells a large number of these contracts to subscribers. We assume that the times of death of the subscribers $\\tau^D$ are independent, and identically distributed, and also independent of the underlying's stock price.\n",
    "\n",
    "- We assume that the underlying's risk neutral price dynamics is the Black-Scholes model with zero interest rate/repo/dividend yield\n",
    "\n",
    "$$\n",
    "dX_t = \\sigma X_t d W_t.\n",
    "$$\n",
    "\n",
    "** The Insurers' Approach and Risk-Neutral Pricing**\n",
    "\n",
    "This contract shows too types risk: the time of death of the subscribers and the changes in price of the underlying. \n",
    "\n",
    "In this case, the issuer can apply the insurer's approach to the risk of death, i.e. the law of large numbers. The more people buy the contract, the less risk.\n",
    "\n",
    "Choosing a risk-neutral measure under which the death times $\\tau^D$ have the same distribution as under the historical probability measure is equivalent to applying the arbitrage-pricing approach to the financial risk insurer's rule on the risk of death. The price of the contract is then\n",
    "\n",
    "$$\n",
    "u(t, x) = E^\\mathbb{Q}_{t, x} \\left[u^\\textrm{mat}(X_T) \\mathbb{1}_{\\tau^D \\geq T} + u^D(\\tau^D, X_{\\tau^D}) \\mathbb{1}_{\\tau^D < T} \\right].\n",
    "$$\n",
    "\n",
    "** Deterministic Death Rate **\n",
    "\n",
    "If the death intensity is a deterministic function $\\lambda_t^D$ (i.e. $\\tau^D$ has an exponential distribution with time-dependent intensity $\\lambda_t^D$), then we have seen that $u$ is the solution to the linear PDE\n",
    "\n",
    "$$\n",
    "\\left\\{\\begin{array}{l}\n",
    "\\partial_t u + \\frac{1}{2} \\sigma^2 x^2 \\partial_x^2 u + \\lambda_t^D \\cdot (u^D - u) = 0,\\\\\n",
    "u(T, \\cdot) \\equiv u^\\textrm{mat}.\n",
    "\\end{array}\\right.\n",
    "$$\n",
    "\n",
    "** Uncertain Mortality Model **\n",
    "\n",
    "We now assume that the death rate is uncertain. We assume that it is adapted and remains in the deterministic interval\n",
    "$\\left[\\underline{\\lambda}_t, \\overline{\\lambda}_t\\right]$. The most conservative way to price the contract is to compute the (financially) worth death rate process $\\lambda_t^D$ as being chosen so as to maximize the value of the contract. The resulting HJB equation is\n",
    "\n",
    "$$\n",
    "\\left\\{\\begin{array}{l}\n",
    "\\partial_t u + \\frac{1}{2} \\sigma^2 x^2 \\partial^2_x u + \\lambda^D(t, u^D - u) \\cdot (u^D - u) = 0,\\\\\n",
    "u(T, \\cdot) \\equiv u^\\textrm{mat},\n",
    "\\end{array}\\right.\n",
    "$$\n",
    "where\n",
    "$$\n",
    "\\lambda^D (t, y) = \\left\\{\\begin{array}{l} \n",
    "    \\overline{\\lambda}^D_t \\quad \\textrm{if} \\ y \\geq 0, \\\\\n",
    "    \\underline{\\lambda}^D_t \\quad \\textrm{otherwise.}\n",
    "\\end{array}\\right.\n",
    "$$\n",
    "\n",
    "** Link with $1$-BSDE and Numerical Schemes **\n",
    "\n",
    "From the Pardoux-Peng theorem, we know that the solution $u(0, x)$ can be represented as the solution $Y_0^x$ to the $1$-BSDE\n",
    "\n",
    "$$\n",
    "dY_t = -f(t, X_t, Y_t, Z_t) dt + Z_t dW_t,\n",
    "$$\n",
    "\n",
    "with the terminal condition $Y_T = u^\\textrm{mat} (X_T)$, where $X_0 = x$ and\n",
    "\n",
    "$$\n",
    "f(t, x, y, z) = \\lambda^D(t, u^D(t, x) - y) \\cdot (u^D(t, x) - y).\n",
    "$$"
   ]
  },
  {
   "cell_type": "markdown",
   "metadata": {},
   "source": [
    "## Some Simulation and Regression Routines"
   ]
  },
  {
   "cell_type": "code",
   "execution_count": 1,
   "metadata": {
    "collapsed": true
   },
   "outputs": [],
   "source": [
    "%matplotlib inline\n",
    "from __future__ import print_function\n",
    "import numpy as np\n",
    "import matplotlib.pyplot as plt"
   ]
  },
  {
   "cell_type": "markdown",
   "metadata": {},
   "source": [
    "** Regression routines**"
   ]
  },
  {
   "cell_type": "code",
   "execution_count": 2,
   "metadata": {
    "collapsed": true
   },
   "outputs": [],
   "source": [
    "# Non-parametric regression function\n",
    "def reg_non_param(x, bdwidth, x_sample, y_sample):\n",
    "    \"\"\"Values of the non-parametric regression of Y wrt X using a Gaussian kernel.\n",
    "\n",
    "    Parameters\n",
    "    ----------\n",
    "    x: numpy array, one dimensional\n",
    "        Values at which the regression is evaluated\n",
    "    bdwidth: positive float, value of the bandwidth parameter\n",
    "    x_sample: numpy array, one dimensional, non-empty\n",
    "        x values of the sample\n",
    "    y_sample: numpy array, one dimensional\n",
    "        y values of the sample, must have the same length as x_sample.    \n",
    "    \"\"\"\n",
    "    def kern(u, x):\n",
    "        \"\"\"Gaussian kernel function\"\"\"\n",
    "        return np.exp(-(u[:, np.newaxis] - x) ** 2 / (2 * bdwidth ** 2))\n",
    "\n",
    "    return np.sum(kern(x_sample, x) * y_sample[:, np.newaxis], axis=0) \\\n",
    "        / np.sum(kern(x_sample, x), axis=0)"
   ]
  },
  {
   "cell_type": "code",
   "execution_count": 3,
   "metadata": {
    "collapsed": true
   },
   "outputs": [],
   "source": [
    "def basis(knots, x):\n",
    "    \"\"\"Values of order-1 B-spline basis functions.\n",
    "    \n",
    "    For an increasingly sorted collection of knots and a collection of\n",
    "    query points x, returns a 2-dimensional array of values, of dimension\n",
    "    len(x) x len(knots).\n",
    "    \n",
    "    Parameters\n",
    "    ----------\n",
    "    knots: numpy array, one dimensional, increasingly sorted\n",
    "        Knots of the B-spline function\n",
    "    x: numpy array, one dimensional\n",
    "        Query points where to evaluate the basis functions.\n",
    "    \"\"\"\n",
    "    nb_knots = len(knots)\n",
    "    diag = np.identity(nb_knots)\n",
    "    res = np.empty((len(x), nb_knots))\n",
    "    for i in xrange(nb_knots):\n",
    "        res[:, i] = np.interp(x, knots, diag[i])\n",
    "    return res"
   ]
  },
  {
   "cell_type": "code",
   "execution_count": 4,
   "metadata": {},
   "outputs": [],
   "source": [
    "def reg_param_coeffs(knots, x_sample, y_sample):\n",
    "    \"\"\"Computes the coefficients of the P-L regression of y_sample wrt. x_sample.\n",
    "    \n",
    "    For an increasingly sorted collection of knots and two one-dimensional\n",
    "    samples x_sample and y_sample, computes the PL-regression.\n",
    "    \n",
    "    Parameters\n",
    "    ----------\n",
    "    knots: numpy array, one dimensional, increasingly sorted\n",
    "        Knots of the B-spline function\n",
    "    x_sample: numpy array, one dimensional\n",
    "        X sample\n",
    "    y_sample: numpy array, one dimensional\n",
    "        Y sample\n",
    "        \n",
    "    Notes\n",
    "    -----\n",
    "    The length of the X and Y samples must be the same.\n",
    "    The length of the knots array should be at least one.\n",
    "    The knots must be increasingly sorted.\n",
    "    \"\"\"\n",
    "    bis = basis(knots, x_sample)\n",
    "    var = bis.T.dot(bis)\n",
    "    covar = y_sample.dot(bis)\n",
    "    return np.linalg.lstsq(var, covar.T)[0]"
   ]
  },
  {
   "cell_type": "code",
   "execution_count": 5,
   "metadata": {
    "collapsed": true
   },
   "outputs": [],
   "source": [
    "def eval_piecewise_linear(x, knots, coeffs):\n",
    "    \"\"\"Eveluates the piecewise linear function at the specified x for the\n",
    "    specified knots and coeffs.\n",
    "    \n",
    "    This is simply a wrapper around np.interp.\n",
    "    \"\"\"\n",
    "    return np.interp(x, knots, coeffs)"
   ]
  },
  {
   "cell_type": "markdown",
   "metadata": {},
   "source": [
    "**Simulation routines for Black-Scholes paths**"
   ]
  },
  {
   "cell_type": "code",
   "execution_count": 6,
   "metadata": {
    "collapsed": true
   },
   "outputs": [],
   "source": [
    "## Utility function for simulating Black-Scholes paths\n",
    "\n",
    "def bs_path(nb_step, nb_mc, S0, sigma, T):\n",
    "    \"\"\"Simulate geometric Brownian motion\n",
    "    \n",
    "    Parameters\n",
    "    ----------\n",
    "    nb_step: integer, greater than 1\n",
    "        number of time steps\n",
    "    nb_mc: positive integer\n",
    "        sample size\n",
    "    S0: positive float\n",
    "        starting value\n",
    "    r: float\n",
    "        drift\n",
    "    sigma: float\n",
    "        volatility\n",
    "    T: positive float\n",
    "        maturity\n",
    "    \"\"\"\n",
    "    brownian = np.empty((nb_step + 1, nb_mc))\n",
    "    brownian[0] = 0.0\n",
    "    brownian[1:] = np.cumsum(np.random.randn(nb_step, nb_mc), axis=0) * np.sqrt(T / nb_step)\n",
    "\n",
    "    return S0 * np.exp(sigma * brownian + (- 0.5 * sigma ** 2) * np.linspace(0.0, T, nb_step + 1)[:, np.newaxis])"
   ]
  },
  {
   "cell_type": "code",
   "execution_count": 7,
   "metadata": {},
   "outputs": [
    {
     "data": {
      "image/png": "[encoded data removed]",
      "text/plain": [
       "<matplotlib.figure.Figure at 0x107e85090>"
      ]
     },
     "metadata": {},
     "output_type": "display_data"
    }
   ],
   "source": [
    "plt.figure()\n",
    "nb_step=1000; nb_mc=100; S0=100; sigma=0.3; T=1.0\n",
    "ss = bs_path(nb_step, nb_mc, S0, sigma, T)\n",
    "plt.plot(ss, 'b', alpha=0.2)\n",
    "plt.show()"
   ]
  },
  {
   "cell_type": "markdown",
   "metadata": {},
   "source": [
    "## BSDE Discretization\n",
    "\n",
    "### Explicit Euler Schemes\n",
    "\n",
    "$$\n",
    "Y_{t_{i - 1}} = E^\\mathbb{Q}_{i - 1} [ Y_{t_i} ] + \\lambda^D (t_{i - 1}, u^D(t_{i - 1} , X_{t_{i - 1}}) -E^\\mathbb{Q}_{i - 1} [ Y_{t_i} ]) \\cdot \\left( u^D(t_{i - 1}, X_{t_{i - 1}}) - E^\\mathbb{Q}_{i - 1} [ Y_{t_i} ] \\right) \\Delta t_i.\n",
    "$$\n",
    "\n",
    "Using the actual formula for $\\overline{\\lambda}$ and $\\underline{\\lambda}$, this comes to\n",
    "\n",
    "$$\n",
    "\\begin{array}{l}\n",
    "Y_{t_{i - 1}} & = \\left( E^\\mathbb{Q}_{i - 1} [ Y_{t_i} ] \\left( 1 - \\overline{\\lambda}^D \\Delta t_i \\right) +\n",
    "u^D(t_{i - 1}, X_{t_{i - 1}}) \\overline{\\lambda}^D \\Delta t_i \\right) \\mathbb{1}_{u^D(t_{i - 1}, X_{t_{i - 1}}) \\geq E_{i-1}[Y_{t_i}]}\\\\\n",
    "& + \\left( E^\\mathbb{Q}_{i - 1} [ Y_{t_i} ] \\left( 1 - \\underline{\\lambda}^D \\Delta t_i \\right) +\n",
    "u^D(t_{i - 1}, X_{t_{i - 1}}) \\underline{\\lambda}^D \\Delta t_i \\right) \\mathbb{1}_{u^D(t_{i - 1}, X_{t_{i - 1}}) < E_{i-1}[Y_{t_i}]}.\n",
    "\\end{array}\n",
    "$$\n",
    "\n",
    "### Implicit Euler Scheme\n",
    "\n",
    "$$\n",
    "Y_{t_{i - 1}} = E^\\mathbb{Q}_{i - 1} [Y_{t_i}] + \\lambda^D (t_{i - 1}, u^D(t_{i - 1}, X_{t_{i - 1}}) - Y_{t_{i - 1}}) \\cdot \\left( u^D(t_{i - 1}, X_{t_{i - 1}}) - Y_{t_{i - 1}} \\right) \\Delta t_i.\n",
    "$$\n",
    "\n",
    "The implicit scheme involves the $Y_{t_{i - 1}}$ on both sides of the equation, which generally requires numerically finding roots, but in this specific case, using the explicit formula for $\\overline{\\lambda}$ and $\\underline{\\lambda}$, this comes to\n",
    "\n",
    "$$\n",
    "\\begin{array}{l}\n",
    "Y_{t_{i - 1}} & = \\frac{1}{1 + \\overline{\\lambda}^D \\Delta t_i} \\left( E^\\mathbb{Q}_{i - 1} [ Y_{t_i} ] +\n",
    "u^D(t_{i - 1}, X_{t_{i - 1}}) \\overline{\\lambda}^D \\Delta t_i \\right) \\mathbb{1}_{u^D(t_{i - 1}, X_{t_{i - 1}}) \\geq E_{i-1}[Y_{t_i}]}\\\\\n",
    "& + \\frac{1}{1 + \\underline{\\lambda}^D \\Delta t_i} \\left( E^\\mathbb{Q}_{i - 1} [ Y_{t_i} ] +\n",
    "u^D(t_{i - 1}, X_{t_{i - 1}}) \\underline{\\lambda}^D \\Delta t_i \\right) \\mathbb{1}_{u^D(t_{i - 1}, X_{t_{i - 1}}) < E_{i-1}[Y_{t_i}]}.\n",
    "\\end{array}\n",
    "$$\n",
    "\n"
   ]
  },
  {
   "cell_type": "code",
   "execution_count": 8,
   "metadata": {},
   "outputs": [],
   "source": [
    "# Model\n",
    "S0 = 100.0\n",
    "sigma = 0.3\n",
    "T = 10.0\n",
    "\n",
    "# Payoff: Put\n",
    "Kmat = 90.0\n",
    "KD = 100.0\n",
    "\n",
    "def umat(x):\n",
    "    return np.maximum(Kmat - x, 0)\n",
    "\n",
    "def uD(x):\n",
    "    return np.maximum(KD - x, 0)\n",
    "\n",
    "# Sample size and time discretization\n",
    "nb_mc = 4000\n",
    "nb_step = 10\n",
    "\n",
    "lambdamin, lambdamax = 0.005, 0.04"
   ]
  },
  {
   "cell_type": "code",
   "execution_count": 9,
   "metadata": {},
   "outputs": [
    {
     "name": "stdout",
     "output_type": "stream",
     "text": [
      "Price from backward induction (non-parametric):  31.3682869358\n"
     ]
    }
   ],
   "source": [
    "# Native implicit BSDE discretization for uncertain mortality model\n",
    "\n",
    "path = bs_path(nb_step, nb_mc, S0, sigma, T)\n",
    "y = umat(path[-1])\n",
    "deltat = T / nb_step\n",
    "\n",
    "# Backward induction\n",
    "for index in range(nb_step):\n",
    "    i = nb_step - index - 1\n",
    "    if i != 0:\n",
    "        ycond = reg_non_param(path[i], 0.2 * np.std(path[i]), path[i], y)\n",
    "    else:\n",
    "        ycond = np.mean(y)\n",
    "    death = uD(path[i])\n",
    "    y = np.where(death > ycond, \n",
    "                (ycond + death * lambdamax * deltat) / (1.0 + lambdamax * deltat),\n",
    "                (ycond + death * lambdamin * deltat) / (1.0 + lambdamin * deltat))\n",
    "\n",
    "print('Price from backward induction (non-parametric): ', np.mean(y))"
   ]
  },
  {
   "cell_type": "markdown",
   "metadata": {
    "collapsed": true
   },
   "source": [
    "## Numerical Experiments"
   ]
  },
  {
   "cell_type": "code",
   "execution_count": 15,
   "metadata": {},
   "outputs": [],
   "source": [
    "#from ipywidgets import interact\n",
    "#from pylab import *\n",
    "import random"
   ]
  },
  {
   "cell_type": "markdown",
   "metadata": {},
   "source": [
    "### 1. Deterministic Mortality Rate Model\n",
    "- Using a naive simulation of the death time for each path, implement a Monte Carlo simulation to estimate the quantity\n",
    "    $$u(t, x) = E^\\mathbb{Q}_{t, x} \\left[u^\\textrm{mat}(X_T) \\mathbb{1}_{\\tau^D \\geq T} + u^D(\\tau^D, X_{\\tau^D}) \\mathbb{1}_{\\tau^D < T} \\right],\n",
    "    $$\n",
    "    when $\\tau^D$ has an exponential distribution of constant intensity $\\lambda^D$. Use the formula above, we have the formula for $u(0,x)$ as following:\n",
    "    $$u(0, x) = E^\\mathbb{Q}\\left[u^\\textrm{mat}(X_T) \\mathbb{1}_{\\tau^D \\geq T} + u^D(\\tau^D, X_{\\tau^D}) \\mathbb{1}_{\\tau^D < T}|X_0=x \\right],\n",
    "    $$"
   ]
  },
  {
   "cell_type": "code",
   "execution_count": 18,
   "metadata": {},
   "outputs": [
    {
     "name": "stdout",
     "output_type": "stream",
     "text": [
      "lambda^D =  0.005\n",
      "Price from naive simulation of the death time:  29.2915371907\n"
     ]
    }
   ],
   "source": [
    "def naive_simulation_of_death_time(lambda_D):\n",
    "    global path, nb_mc, T\n",
    "    y = umat(path[-1])\n",
    "    for i in range(nb_mc):\n",
    "        # generate exponential random variable\n",
    "        tau_D = random.expovariate(lambda_D)\n",
    "        if tau_D < T:\n",
    "            y[i] = uD(path[int(tau_D), i])\n",
    "    print(\"lambda^D = \", lambda_D)\n",
    "    print('Price from naive simulation of the death time: ', np.mean(y))\n",
    "    \n",
    "# test the result when lambda^D = lambda_min\n",
    "naive_simulation_of_death_time(lambdamin)"
   ]
  },
  {
   "cell_type": "markdown",
   "metadata": {},
   "source": [
    "- Using the Feynman-Kac formula, derive a stochastic representation of the linear PDE\n",
    "    $$\n",
    "    \\left\\{\\begin{array}{l}\n",
    "    \\partial_t u + \\frac{1}{2} \\sigma^2 x^2 \\partial_x^2 u + \\lambda_t^D \\cdot (u^D - u) = 0,\\\\\n",
    "    u(T, \\cdot) \\equiv u^\\textrm{mat}.\n",
    "    \\end{array}\\right.,\n",
    "    $$\n",
    "    Implement the corresponding Monte Carlo simulation. By Feynman-Kac , the solution to the PDE above can be written as a conditional expectation\n",
    "    $$\n",
    "    u(t,x) = E^Q_{t,x}\\left[\\int_t^T e^{-\\int_t^r \\lambda_\\tau^Dd\\tau}\\lambda_r^D\\cdot u^D(X_r,r)dr+e^{-\\int_t^T \\lambda_\\tau^Dd\\tau}u^{mat}(X_T)\\right] \n",
    "    $$\n",
    "    under the probability measure $Q$ such that $X$ is an Ito process driven by the equation\n",
    "    $$\n",
    "    dX=\\sigma XdW^Q\n",
    "    $$\n",
    "    When $\\tau^D$ has an exponential distribution of constant intensity $\\lambda^D$ and $t=0$, the above formula becomes\n",
    "    $$\n",
    "    u(0,x) = E^Q\\left[\\int_0^T e^{-\\lambda^D t}\\lambda^D\\cdot u^D(X_t)dt+e^{-\\lambda^DT}u^{mat}(X_T)|X_0=x\\right]\n",
    "    $$\n",
    "    Moreover, if we discretize [0,T], namely, $0=t_0<\\cdots<t_n=T,~t_i=\\frac{i}{n}T, \\Delta t = \\frac{T}{n}$, the integral can be approximated by Monte Carlo paths\n",
    "    $$\n",
    "    ~\\int_0^T e^{-\\lambda^D t}\\lambda^D\\cdot u^D(X_t)dt=\\sum_{i=0}^{n-1} e^{-\\lambda^D t_i}\\lambda^D\\cdot u^D(X_{t_i})\\frac{T}{n}\n",
    "    $$\n",
    "    Finally, we can estimate $u(0,x)$ by averaging the results."
   ]
  },
  {
   "cell_type": "code",
   "execution_count": 12,
   "metadata": {},
   "outputs": [
    {
     "name": "stdout",
     "output_type": "stream",
     "text": [
      "lambda^D =  0.005\n",
      "Price from using the Feynman-Kac formula:  29.5008324882\n"
     ]
    }
   ],
   "source": [
    "def Feynmann_Kac(lambda_D):\n",
    "    global path, nb_mc, nb_step, T\n",
    "    ti = np.linspace(0.0, T, nb_step + 1)\n",
    "    y = np.exp(-lambda_D*T)*umat(path[-1])\n",
    "    for i in range(nb_step):\n",
    "        y += np.exp(-lambda_D*ti[i]) * lambda_D * uD(path[i]) * T / nb_step\n",
    "    print(\"lambda^D = \", lambda_D)\n",
    "    print('Price from using the Feynman-Kac formula: ', np.mean(y))\n",
    "    \n",
    "# test the result when lambda^D = lambda_min\n",
    "Feynmann_Kac(lambdamin)"
   ]
  },
  {
   "cell_type": "markdown",
   "metadata": {},
   "source": [
    "### 2. Uncertain Mortality Rate Model\n",
    "- From the numerical results below, we find that if $\\lambda^D \\in \\left[\\underline{\\lambda}, \\overline{\\lambda} \\right]$, the price of uncertain mortality rate model is larger than the price of deterministic mortality rate model."
   ]
  },
  {
   "cell_type": "code",
   "execution_count": 13,
   "metadata": {},
   "outputs": [
    {
     "name": "stdout",
     "output_type": "stream",
     "text": [
      "Price from backward induction (non-parametric):  31.4849548592\n"
     ]
    }
   ],
   "source": [
    "# Uncertain mortality rate model\n",
    "print('Price from backward induction (non-parametric): ', np.mean(y))"
   ]
  },
  {
   "cell_type": "code",
   "execution_count": 14,
   "metadata": {},
   "outputs": [
    {
     "name": "stdout",
     "output_type": "stream",
     "text": [
      "lambda^D =  0.022\n",
      "Price from naive simulation of the death time:  28.2581268252\n"
     ]
    },
    {
     "data": {
      "text/plain": [
       "<function __main__.naive_simulation_of_death_time>"
      ]
     },
     "execution_count": 14,
     "metadata": {},
     "output_type": "execute_result"
    }
   ],
   "source": [
    "# Deterministic mortality rate model: a naive simulation of the death time\n",
    "interact(naive_simulation_of_death_time, lambda_D = (lambdamin, lambdamax, 0.001))"
   ]
  },
  {
   "cell_type": "code",
   "execution_count": 15,
   "metadata": {},
   "outputs": [
    {
     "name": "stdout",
     "output_type": "stream",
     "text": [
      "lambda^D =  0.022\n",
      "Price from using the Feynman-Kac formula:  28.3464251488\n"
     ]
    },
    {
     "data": {
      "text/plain": [
       "<function __main__.Feynmann_Kac>"
      ]
     },
     "execution_count": 15,
     "metadata": {},
     "output_type": "execute_result"
    }
   ],
   "source": [
    "# Deterministic mortality rate model: Feynman-Kac formula\n",
    "interact(Feynmann_Kac, lambda_D = (lambdamin, lambdamax, 0.001))"
   ]
  },
  {
   "cell_type": "markdown",
   "metadata": {},
   "source": [
    "- From the numerical results below, we can find that the price becomes larger when the interval widens."
   ]
  },
  {
   "cell_type": "code",
   "execution_count": 16,
   "metadata": {},
   "outputs": [
    {
     "name": "stdout",
     "output_type": "stream",
     "text": [
      "lambdamin =  0.0027 , lambda_max =  0.22\n",
      "Price from backward induction (non-parametric):  35.3187451733\n"
     ]
    },
    {
     "data": {
      "text/plain": [
       "<function __main__.BSDE>"
      ]
     },
     "execution_count": 16,
     "metadata": {},
     "output_type": "execute_result"
    }
   ],
   "source": [
    "# Native implicit BSDE discretization for uncertain mortality model\n",
    "def BSDE(lambdamin, lambdamax):\n",
    "    global path, nb_step, T\n",
    "    y = umat(path[-1])\n",
    "    deltat = T / nb_step\n",
    "    \n",
    "    # Backward induction\n",
    "    for index in range(nb_step):\n",
    "        i = nb_step - index - 1\n",
    "        if i != 0:\n",
    "            ycond = reg_non_param(path[i], 0.2 * np.std(path[i]), path[i], y)\n",
    "        else:\n",
    "            ycond = np.mean(y)\n",
    "        death = uD(path[i])\n",
    "        y = np.where(death > ycond, \n",
    "                    (ycond + death * lambdamax * deltat) / (1.0 + lambdamax * deltat),\n",
    "                    (ycond + death * lambdamin * deltat) / (1.0 + lambdamin * deltat))\n",
    "    print(\"lambdamin = \", lambdamin, \", lambda_max = \", lambdamax)\n",
    "    print('Price from backward induction (non-parametric): ', np.mean(y))\n",
    "\n",
    "# interact with lambda_min, lambda_max\n",
    "interact(BSDE, lambdamin = (0.0005, 0.005, 0.0001), lambdamax = (0.04, 0.4, 0.01))"
   ]
  },
  {
   "cell_type": "markdown",
   "metadata": {},
   "source": [
    "- From the numerical results below, we can see that corresponding American option price should be larger than the price of the reinsurance deal."
   ]
  },
  {
   "cell_type": "code",
   "execution_count": 17,
   "metadata": {},
   "outputs": [
    {
     "name": "stdout",
     "output_type": "stream",
     "text": [
      "American option price from Lonstaff-Schwartz Algorithm (non-parametric):  33.9881587723\n",
      "Reinsurance deal price from backward induction (non-parametric):  31.4849548592\n"
     ]
    }
   ],
   "source": [
    "# Lonstaff-Schwartz Algorithm for American option\n",
    "price = umat(path[-1])\n",
    "for index in range(nb_step):\n",
    "    i = nb_step - index - 1\n",
    "    exercise = uD(path[i])\n",
    "    if i != 0:\n",
    "        continuation = reg_non_param(path[i], 0.3 * np.std(path[i]), path[i], price)\n",
    "    else:\n",
    "        continuation = np.mean(price)\n",
    "    exercise_now = exercise > continuation\n",
    "    price = np.where(exercise_now, exercise, price)\n",
    "\n",
    "print('American option price from Lonstaff-Schwartz Algorithm (non-parametric): ', np.mean(price))\n",
    "print('Reinsurance deal price from backward induction (non-parametric): ', np.mean(y))"
   ]
  },
  {
   "cell_type": "markdown",
   "metadata": {},
   "source": [
    "- Compare the corresponding American semi-linear PDE with the HJB equation derived earlier. What should the limit be when $\\underline{\\lambda}$ and $\\overline{\\lambda}$ go to zero and infinity respectively? The HJB equation derived earlier is\n",
    "\n",
    "    $$\n",
    "    \\left\\{\\begin{array}{l}\n",
    "    \\partial_t u + \\frac{1}{2} \\sigma^2 x^2 \\partial^2_x u + \\lambda^D(t, u^D - u) \\cdot (u^D - u) = 0,\\\\\n",
    "    u(T, \\cdot) \\equiv u^\\textrm{mat}.\n",
    "    \\end{array}\\right.\n",
    "    $$\n",
    "    where\n",
    "    $$\n",
    "    \\lambda^D (t, y) = \\left\\{\\begin{array}{l} \n",
    "        \\overline{\\lambda}^D_t \\quad \\textrm{if} \\ y \\geq 0, \\\\\n",
    "        \\underline{\\lambda}^D_t \\quad \\textrm{otherwise.}\n",
    "    \\end{array}\\right.\n",
    "    $$\n",
    "    When $\\underline{\\lambda}$ and $\\overline{\\lambda}$ go to zero and infinity respectively, the HJB equation becomes\n",
    "    $$\n",
    "    \\left\\{\\begin{array}{l}\n",
    "    \\max(\\partial_t u + \\frac{1}{2} \\sigma^2 x^2 \\partial^2_x u,~u^D - u) = 0,\\\\\n",
    "    u(T, \\cdot) \\equiv u^\\textrm{mat}.\n",
    "    \\end{array}\\right.\n",
    "    $$\n",
    "    which is the variational inequality of American semi-linear PDE except that the exercise payoff is $u^D$ and the terminal condition is $u^\\textrm{mat}$.\n",
    "    "
   ]
  },
  {
   "cell_type": "markdown",
   "metadata": {},
   "source": [
    "- Compute the critical value $X_t^*$ of $X_t$ under which the worst case scenario for the issuer corresponds to the maximal mortality rate. Plot the value of $X_t^*$ as a function of $t$."
   ]
  },
  {
   "cell_type": "code",
   "execution_count": 18,
   "metadata": {},
   "outputs": [
    {
     "data": {
      "text/plain": [
       "<matplotlib.text.Text at 0x105e8d990>"
      ]
     },
     "execution_count": 18,
     "metadata": {},
     "output_type": "execute_result"
    },
    {
     "data": {
      "image/png": "[encoded data removed]",
      "text/plain": [
       "<matplotlib.figure.Figure at 0x105cdde10>"
      ]
     },
     "metadata": {},
     "output_type": "display_data"
    }
   ],
   "source": [
    "y = umat(path[-1])\n",
    "deltat = T / nb_step\n",
    "mesh = np.linspace(20.0, 120.0, 400)\n",
    "critical_v_0 = [Kmat]\n",
    "\n",
    "# Backward induction\n",
    "for index in range(nb_step):\n",
    "    i = nb_step - index - 1\n",
    "    if i != 0:\n",
    "        ycond = reg_non_param(path[i], 0.2 * np.std(path[i]), path[i], y)\n",
    "        ycond_mesh = reg_non_param(mesh, 0.2 * np.std(path[i]), path[i], y)\n",
    "        death_mesh = uD(mesh)\n",
    "        critical_v_0.insert(0, mesh[death_mesh > ycond_mesh][-1])\n",
    "    else:\n",
    "        ycond = np.mean(y)\n",
    "    death = uD(path[i])\n",
    "    y = np.where(death > ycond, \n",
    "                (ycond + death * lambdamax * deltat) / (1.0 + lambdamax * deltat),\n",
    "                (ycond + death * lambdamin * deltat) / (1.0 + lambdamin * deltat))\n",
    "\n",
    "critical_v_0.insert(0, KD - np.mean(y))\n",
    "plt.plot(np.linspace(0, T, nb_step + 1), critical_v_0, linewidth=3)\n",
    "plt.title(\"The critical value as a function of time\")"
   ]
  },
  {
   "cell_type": "markdown",
   "metadata": {},
   "source": [
    "### 3.Including a fee in the product\n",
    "- Modify the above BSDE discretization to account for the possibility of a constant fee $\\alpha \\Delta t$ paid by the subscribers at every time step until death or the maturity or the product. Investigate the dependence of the cricial value $X_t^*$ with respect to the value of the fee. When a constant fee $\\alpha \\Delta t$ paid by the subscribers at every time step until death or the maturity or the product, the HJB equation becomes\n",
    "\n",
    "    $$\n",
    "    \\left\\{\\begin{array}{l}\n",
    "    \\partial_t u + \\frac{1}{2} \\sigma^2 x^2 \\partial^2_x u - \\alpha + \\lambda^D(t, u^D - u) \\cdot (u^D - u) = 0,\\\\\n",
    "    u(T, \\cdot) \\equiv u^\\textrm{mat},\n",
    "    \\end{array}\\right.\n",
    "    $$\n",
    "    From the Pardoux-Peng theorem, we know that the solution $u(0, x)$ can be represented as the solution $Y_0^x$ to the $1$-BSDE\n",
    "\n",
    "    $$\n",
    "    dY_t = -f(t, X_t, Y_t, Z_t) dt + Z_t dW_t,\n",
    "    $$\n",
    "\n",
    "    with the terminal condition $Y_T = u^\\textrm{mat} (X_T)$, where $X_0 = x$ and\n",
    "\n",
    "    $$\n",
    "    f(t, x, y, z) = \\lambda^D(t, u^D(t, x) - y) \\cdot (u^D(t, x) - y) - \\alpha.\n",
    "    $$\n",
    "    \n",
    "    We have the Implicit Euler Scheme\n",
    "\n",
    "    $$\n",
    "    Y_{t_{i - 1}} = E^\\mathbb{Q}_{i - 1} [Y_{t_i}] +\\left[ \\lambda^D (t_{i - 1}, u^D(t_{i - 1}, X_{t_{i - 1}}) - Y_{t_{i - 1}}) \\cdot \\left( u^D(t_{i - 1}, X_{t_{i - 1}}) - Y_{t_{i - 1}} \\right) -\\alpha \\right]\\Delta t_i.\n",
    "    $$\n",
    "\n",
    "    The implicit scheme involves the $Y_{t_{i - 1}}$ on both sides of the equation, which generally requires numerically finding roots, but in this specific case, using the explicit formula for $\\overline{\\lambda}$ and $\\underline{\\lambda}$, this comes to\n",
    "\n",
    "    $$\n",
    "    \\begin{array}{l}\n",
    "    Y_{t_{i - 1}} & = \\frac{1}{1 + \\overline{\\lambda}^D \\Delta t_i} \\left[ E^\\mathbb{Q}_{i - 1} [ Y_{t_i} ] +\n",
    "    \\left(u^D(t_{i - 1}, X_{t_{i - 1}}) \\overline{\\lambda}^D-\\alpha \\right) \\Delta t_i \\right] \\mathbb{1}_{u^D(t_{i - 1}, X_{t_{i - 1}}) \\geq E_{i-1}[Y_{t_i}]}\\\\\n",
    "    & + \\frac{1}{1 + \\underline{\\lambda}^D \\Delta t_i} \\left[ E^\\mathbb{Q}_{i - 1} [ Y_{t_i} ] +\n",
    "    \\left(u^D(t_{i - 1}, X_{t_{i - 1}}) \\underline{\\lambda}^D -\\alpha \\right)\\Delta t_i \\right] \\mathbb{1}_{u^D(t_{i - 1}, X_{t_{i - 1}}) < E_{i-1}[Y_{t_i}]}.\n",
    "    \\end{array}\n",
    "    $$\n",
    "    \n",
    "    From the plot below, we can find that the critical value $X_t^*$ increases as the fee $\\alpha$ increases. More specifically, the critical value $X_t^*$ increases by approximately $(T - t)*\\alpha$ when compared to the critical value value without fee."
   ]
  },
  {
   "cell_type": "code",
   "execution_count": 19,
   "metadata": {
    "scrolled": true
   },
   "outputs": [
    {
     "name": "stdout",
     "output_type": "stream",
     "text": [
      "Fee alpha =  0.99\n"
     ]
    },
    {
     "data": {
      "text/plain": [
       "<function __main__.BSDE_Critical_Value_Alpha>"
      ]
     },
     "execution_count": 19,
     "metadata": {},
     "output_type": "execute_result"
    },
    {
     "data": {
      "image/png": "[encoded data removed]",
      "text/plain": [
       "<matplotlib.figure.Figure at 0x105d7e390>"
      ]
     },
     "metadata": {},
     "output_type": "display_data"
    }
   ],
   "source": [
    "# Native implicit BSDE discretization for uncertain mortality model with constant fee alpha \n",
    "def BSDE_Critical_Value_Alpha(alpha):\n",
    "    global path, nb_step, lambdamin, lambdamax, T, critical_v_0\n",
    "    y = umat(path[-1])\n",
    "    deltat = T / nb_step\n",
    "    mesh = np.linspace(20.0, 120.0, 400)\n",
    "    critical_v = [Kmat]\n",
    "    \n",
    "    # Backward induction\n",
    "    for index in range(nb_step):\n",
    "        i = nb_step - index - 1\n",
    "        if i != 0:\n",
    "            ycond = reg_non_param(path[i], 0.2 * np.std(path[i]), path[i], y)\n",
    "            ycond_mesh = reg_non_param(mesh, 0.2 * np.std(path[i]), path[i], y)\n",
    "            death_mesh = uD(mesh)\n",
    "            critical_v.insert(0, mesh[death_mesh > ycond_mesh][-1])\n",
    "        else:\n",
    "            ycond = np.mean(y)\n",
    "        death = uD(path[i])\n",
    "        y = np.where(death > ycond, \n",
    "                    (ycond + (death * lambdamax - alpha) * deltat) / (1.0 + lambdamax * deltat),\n",
    "                    (ycond + (death * lambdamin - alpha) * deltat) / (1.0 + lambdamin * deltat))\n",
    "    critical_v.insert(0, KD - np.mean(y))\n",
    "    \n",
    "    # Plot the cricial value with/witout fee alpha\n",
    "    print(\"Fee alpha = \", alpha)\n",
    "    xaxis = np.linspace(0, T, nb_step + 1)\n",
    "    plt.plot(xaxis, critical_v, linewidth=3, label = \"Critical value with fee alpha\")\n",
    "    plt.plot(xaxis, critical_v_0, linewidth=3, label = \"Critical value without fee alpha\")\n",
    "    plt.plot(xaxis, np.array(critical_v) - np.array(critical_v_0), linewidth=3, label = \"Their difference\")\n",
    "    legend(loc='upper center', bbox_to_anchor=(0.5, -0.05), fancybox = True, ncol=5)\n",
    "    plt.title(\"Dependence of the critical value on fee alpha\")\n",
    "    \n",
    "interact(BSDE_Critical_Value_Alpha, alpha = (0.0, 2.0, 0.01))"
   ]
  }
 ],
 "metadata": {
  "anaconda-cloud": {},
  "kernelspec": {
   "display_name": "Python 3",
   "language": "python",
   "name": "python3"
  },
  "language_info": {
   "codemirror_mode": {
    "name": "ipython",
    "version": 3
   },
   "file_extension": ".py",
   "mimetype": "text/x-python",
   "name": "python",
   "nbconvert_exporter": "python",
   "pygments_lexer": "ipython3",
   "version": "3.6.5"
  },
  "name": "Uncertain Mortality.ipynb"
 },
 "nbformat": 4,
 "nbformat_minor": 1
}
